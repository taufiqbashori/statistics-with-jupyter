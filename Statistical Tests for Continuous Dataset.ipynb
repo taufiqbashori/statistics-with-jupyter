{
 "cells": [
  {
   "cell_type": "markdown",
   "id": "05e28603",
   "metadata": {},
   "source": [
    "# Statistical Tests for Continuous Dataset"
   ]
  },
  {
   "cell_type": "markdown",
   "id": "69990094",
   "metadata": {},
   "source": [
    "## Flow & Scope"
   ]
  },
  {
   "cell_type": "markdown",
   "id": "e310eb04",
   "metadata": {},
   "source": [
    "Normality & Equal Variance (Continuous Data):\n",
    "\n",
    "1. Levene Tests: https://www.statology.org/levenes-test-python/. \n",
    "   To determine whether two or more groups have equal variances, where H0 = equal variance assumed. \n",
    "   \n",
    "2. Shapiro Wilk Tests: https://www.geeksforgeeks.org/how-to-perform-a-shapiro-wilk-test-in-python/.\n",
    "   To determine whether the given sample comes from the normal distribution or not, where H0 = normality assumed.\n",
    "   \n",
    "In case of neither test produce statsig, proceed to One Way Anova Test.\n",
    "\n",
    "3.a. One Way Anova Test: https://www.geeksforgeeks.org/how-to-perform-a-one-way-anova-in-python/.\n",
    "     To determine whether there exists a statistically significant difference between the mean values of more than one group, where H0 = No Means Difference in Any Group. One way ANOVA is parametric hence the required step 1 & 2 not producing any statsig (read more here: https://libguides.library.kent.edu/spss/onewayanova)\n",
    "\n",
    "     In case step 3.a. One Way Anova produce statsig, i.e one of group means is different, proceed to Pairwise T-Test.\n",
    "\n",
    "        3.a.1 Pairwise T-Test: https://www.geeksforgeeks.org/how-to-conduct-a-paired-samples-t-test-in-python/.\n",
    "          To check whether the mean difference between the TWO sets of observation is equal to zero.\n",
    "          \n",
    "     In case step 3.a. doesn't produce statsig result, No Pairwise T-Test is needed (meaning, no difference in means)\n",
    "\n",
    "In case of one of the test from step 1 & 2 produce statsig, proceed to Kruskall Wallis Test.\n",
    "\n",
    "3.b. Kruskall-Wallis Test: https://www.geeksforgeeks.org/how-to-perform-a-kruskal-wallis-test-in-python/.\n",
    "     It is a non-parametric test and an alternative to One-Way Anova, hence the statsig from step 1 & 2 (the data is not assumed to become from a particular distribution).\n",
    "     \n",
    "     In case step 3.b. Kruskall-Wallis produce statsig, i.e one of group median is different, proceed to Conover Test.\n",
    "     \n",
    "         3.b.1 Conover Test: https://scikit-posthocs.readthedocs.io/en/latest/generated/scikit_posthocs.posthoc_conover/. Post hoc pairwise test for multiple comparisons of mean rank sums (Conover´s test). May be used after Kruskal-Wallis one-way analysis of variance by ranks to do pairwise comparisons.\n",
    "     \n",
    "     In case step 3.b. doesn't produce statsig result, No Pairwise Conover Test is needed (meaning, no diffrence in median)."
   ]
  },
  {
   "cell_type": "markdown",
   "id": "2e8116bb",
   "metadata": {},
   "source": [
    "### Step 1-2: Normality & Equal Variance Tests"
   ]
  },
  {
   "cell_type": "code",
   "execution_count": 45,
   "id": "b066165c",
   "metadata": {},
   "outputs": [
    {
     "name": "stdout",
     "output_type": "stream",
     "text": [
      "Levene test p-value at 0.84: Not Statsig, Variance is equal\n"
     ]
    }
   ],
   "source": [
    "# example of the data\n",
    "group1 = [7, 14, 14, 13, 12, 9, 6, 14, 12, 8]\n",
    "group2 = [15, 17, 13, 15, 15, 13, 9, 12, 10, 8]\n",
    "group3 = [6, 8, 8, 9, 5, 14, 13, 8, 10, 9]\n",
    "\n",
    "# test for variance/ levene\n",
    "import scipy.stats as stats\n",
    "#Levene's test centered at the median\n",
    "levene_score = stats.levene(group1, group2, group3, center='median').pvalue\n",
    "\n",
    "if levene_score < 0.05:\n",
    "    print(\"Levene Test p-value at {}: Statsig, Variance not equal\".format(levene_score.round(2)))\n",
    "else:\n",
    "    print(\"Levene test p-value at {}: Not Statsig, Variance is equal\".format(levene_score.round(2)))"
   ]
  },
  {
   "cell_type": "code",
   "execution_count": 46,
   "id": "252abbee",
   "metadata": {},
   "outputs": [
    {
     "name": "stdout",
     "output_type": "stream",
     "text": [
      "Shapiro p-value for data_0 is 0.09: Not Statsig, Data Normal\n",
      "Shapiro p-value for data_1 is 0.58: Not Statsig, Data Normal\n",
      "Shapiro p-value for data_2 is 0.42: Not Statsig, Data Normal\n"
     ]
    }
   ],
   "source": [
    "# test for normality\n",
    "from scipy.stats import shapiro\n",
    "\n",
    "# conduct the  Shapiro-Wilk Test\n",
    "data_group = [group1, group2, group3]\n",
    "pvalue_shapiro = []\n",
    "for i in range(len(data_group)):\n",
    "    pvalue_shapiro.append(round(shapiro(data_group[i]).pvalue,2))\n",
    "    if pvalue_shapiro[i] < 0.05:\n",
    "        print(\"Shapiro p-value for data_{} is {}: Statsig, Data Not Normal\".format(i, pvalue_shapiro[i]))\n",
    "    else:\n",
    "        print(\"Shapiro p-value for data_{} is {}: Not Statsig, Data Normal\".format(i, pvalue_shapiro[i]))"
   ]
  },
  {
   "cell_type": "markdown",
   "id": "950dec52",
   "metadata": {},
   "source": [
    "### Step 3a: (If None of Step 1 or 2 is Statsig) Means Difference Tests"
   ]
  },
  {
   "cell_type": "code",
   "execution_count": 140,
   "id": "9e4bb4ae",
   "metadata": {},
   "outputs": [
    {
     "name": "stdout",
     "output_type": "stream",
     "text": [
      "One Way Anova p-value for grouped data is 0.03: Statsig, At Least one in Group differs in mean.\n"
     ]
    }
   ],
   "source": [
    "# If neither Normality nor Variance Tests is statsig (none of them), proceed to One Way Anova\n",
    "from scipy.stats import f_oneway\n",
    "\n",
    "oneway_pvalue = f_oneway(data_grouped[0],data_grouped[1],data_grouped[2]).pvalue\n",
    "if oneway_pvalue < 0.05:\n",
    "    print(\"One Way Anova p-value for grouped data is {}: Statsig, At Least one in Group differs in mean.\".format(oneway_pvalue.round(2)))\n",
    "else:\n",
    "    print(\"One Way Anova p-value for grouped data is {}: Not Statsig, None within Group differs in mean.\".format(oneway_pvalue.round(2)))"
   ]
  },
  {
   "cell_type": "markdown",
   "id": "74edb82d",
   "metadata": {},
   "source": [
    "### Step 3a.1: (if Step 3a is Statsig) Pairwise T Tests (parametric, for Means Difference between 2 groups)"
   ]
  },
  {
   "cell_type": "code",
   "execution_count": 135,
   "id": "663251c5",
   "metadata": {},
   "outputs": [
    {
     "name": "stdout",
     "output_type": "stream",
     "text": [
      "Pairwise t p-value group 1 vs 2 is 0.1: Not Statsig, No Mean difference exists\n",
      "Pairwise t p-value group 2 vs 3 is 0.04: Statsig, Mean difference exists\n",
      "Pairwise t p-value group 1 vs 3 is 0.25: Not Statsig, No Mean difference exists\n"
     ]
    }
   ],
   "source": [
    "# Pairwise t-test, if One Way Anova Result is statsig\n",
    "\n",
    "# check between group 1 and group 2\n",
    "pvalue_pairwise_t_group12 = stats.ttest_rel(data_group[0], data_group[1]).pvalue\n",
    "# check between group 2 and group 3\n",
    "pvalue_pairwise_t_group23 = stats.ttest_rel(data_group[1], data_group[2]).pvalue\n",
    "# check between group 1 and group 3\n",
    "pvalue_pairwise_t_group13 = stats.ttest_rel(data_group[0], data_group[2]).pvalue\n",
    "\n",
    "if pvalue_pairwise_t_group12 < 0.05:\n",
    "    print(\"Pairwise t p-value group 1 vs 2 is {}: Statsig, Mean difference exists\".format(pvalue_pairwise_t_group12.round(2)))\n",
    "else:\n",
    "    print(\"Pairwise t p-value group 1 vs 2 is {}: Not Statsig, No Mean difference exists\".format(pvalue_pairwise_t_group12.round(2)))\n",
    "    \n",
    "if pvalue_pairwise_t_group23 < 0.05:\n",
    "    print(\"Pairwise t p-value group 2 vs 3 is {}: Statsig, Mean difference exists\".format(pvalue_pairwise_t_group23.round(2)))\n",
    "else:\n",
    "    print(\"Pairwise t p-value group 2 vs 3 is {}: Not Statsig, No Mean difference exists\".format(pvalue_pairwise_t_group23.round(2)))    \n",
    " \n",
    "if pvalue_pairwise_t_group13 < 0.05:\n",
    "    print(\"Pairwise t p-value group 1 vs 3 is {}: Statsig, Mean difference exists\".format(pvalue_pairwise_t_group13.round(2)))\n",
    "else:\n",
    "    print(\"Pairwise t p-value group 1 vs 3 is {}: Not Statsig, No Mean difference exists\".format(pvalue_pairwise_t_group13.round(2)))    "
   ]
  },
  {
   "cell_type": "markdown",
   "id": "af3d2a7d",
   "metadata": {},
   "source": [
    "### Step 3b: Kruskall-Wallis Test (for median difference across data groups)"
   ]
  },
  {
   "cell_type": "code",
   "execution_count": 139,
   "id": "5d8a92ee",
   "metadata": {},
   "outputs": [
    {
     "name": "stdout",
     "output_type": "stream",
     "text": [
      "Kruskall-Wallis p-value for grouped data is 0.04: Statsig, at Least one in Group differs in median.\n"
     ]
    }
   ],
   "source": [
    "# Conduct kruskall-wallis test\n",
    "\n",
    "pvalue_kruskall = stats.kruskal(data_group[0], data_group[1], data_group[2]).pvalue\n",
    "if pvalue_kruskall <0.05:\n",
    "    print(\"Kruskall-Wallis p-value for grouped data is {}: Statsig, at Least one in Group differs in median.\".format(pvalue_kruskall.round(2)))\n",
    "else:\n",
    "    print(\"Kruskall-Wallis p-value for grouped data is {}: Not Statsig, none within Group differs in median.\".format(pvalue_kruskall.round(2)))"
   ]
  },
  {
   "cell_type": "markdown",
   "id": "2d6010e4",
   "metadata": {},
   "source": [
    "### Step 3b.1: (If step 3b is statsig) Pairwise Conover Test (non parametric, for rank sum means difference between 2 groups)"
   ]
  },
  {
   "cell_type": "code",
   "execution_count": 171,
   "id": "4add0fcc",
   "metadata": {},
   "outputs": [
    {
     "name": "stdout",
     "output_type": "stream",
     "text": [
      "Pairwise Conover p-value group 1 vs 2 is 0.21: Not Statsig, No Mean Rank difference exists.\n",
      "Pairwise Conover p-value group 1 vs 3 is 0.21: Not Statsig, No Mean Rank difference exists.\n",
      "Pairwise Conover p-value group 2 vs 3 is 0.03: Statsig, Mean Rank difference exists.\n"
     ]
    }
   ],
   "source": [
    "# Conduct Pairwise Conover Test\n",
    "import scikit_posthocs as sp\n",
    "pvalues_conover = sp.posthoc_conover(data_group, p_adjust = 'fdr_bh')\n",
    "\n",
    "# comparisons\n",
    "if pvalues_conover[1][2] < 0.05:\n",
    "    print(\"Pairwise Conover p-value group 1 vs 2 is {}: Statsig, Mean Rank difference exists.\".format(pvalues_conover[1][2].round(2)))\n",
    "else:\n",
    "    print(\"Pairwise Conover p-value group 1 vs 2 is {}: Not Statsig, No Mean Rank difference exists.\".format(pvalues_conover[1][2].round(2)))\n",
    "    \n",
    "if pvalues_conover[1][3] < 0.05:\n",
    "    print(\"Pairwise Conover p-value group 1 vs 3 is {}: Statsig, Mean Rank difference exists.\".format(pvalues_conover[1][3].round(2)))\n",
    "else:\n",
    "    print(\"Pairwise Conover p-value group 1 vs 3 is {}: Not Statsig, No Mean Rank difference exists.\".format(pvalues_conover[1][3].round(2)))    \n",
    "    \n",
    "if pvalues_conover[2][3] < 0.05:\n",
    "    print(\"Pairwise Conover p-value group 2 vs 3 is {}: Statsig, Mean Rank difference exists.\".format(pvalues_conover[2][3].round(2)))\n",
    "else:\n",
    "    print(\"Pairwise Conover p-value group 2 vs 3 is {}: Not Statsig, No Mean Rank difference exists.\".format(pvalues_conover[2][3].round(2)))        "
   ]
  }
 ],
 "metadata": {
  "kernelspec": {
   "display_name": "Python 3 (ipykernel)",
   "language": "python",
   "name": "python3"
  },
  "language_info": {
   "codemirror_mode": {
    "name": "ipython",
    "version": 3
   },
   "file_extension": ".py",
   "mimetype": "text/x-python",
   "name": "python",
   "nbconvert_exporter": "python",
   "pygments_lexer": "ipython3",
   "version": "3.9.13"
  }
 },
 "nbformat": 4,
 "nbformat_minor": 5
}
