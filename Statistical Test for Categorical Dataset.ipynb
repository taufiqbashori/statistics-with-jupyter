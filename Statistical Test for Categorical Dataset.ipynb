{
 "cells": [
  {
   "cell_type": "markdown",
   "id": "f4097ac8",
   "metadata": {},
   "source": [
    "## Statistical Tests for Continuous Dataset"
   ]
  },
  {
   "cell_type": "markdown",
   "id": "c36818e6",
   "metadata": {},
   "source": [
    "### Flow & Scope\n",
    "\n",
    "#### A. Chi Sq Test\n",
    "Dependence among categorical (omnibus) chi squared test: https://www.pythonfordatascience.org/chi-square-test-of-independence-python/\n",
    "\n",
    "It's a test for dependence between categorical variables and is an omnibus test. Meaning, that if a significant relationship is found and one wants to test for differences between groups then post-hoc testing will need to be conducted. Typically, a proportions test is used as a follow-up post-hoc test.\n",
    "\n",
    "Test of independence assumptions:\n",
    "\n",
    "(a) The two samples are independent. (b) No expected cell count is = 0. (c) No more than 20% of the cells have and expected cell count < 5.\n",
    "\n",
    "Hypothesis:\n",
    "\n",
    "H0: Variables are independent.\n",
    "\n",
    "H1: Variables are dependent.\n",
    "\n",
    "#### B. Chi Sq Post Hoc Test (Pairwise Chi Squared Test with BH Adjustments)"
   ]
  },
  {
   "cell_type": "markdown",
   "id": "1e9bd312",
   "metadata": {},
   "source": [
    "## Step 1: Omnibus Test"
   ]
  },
  {
   "cell_type": "code",
   "execution_count": 113,
   "id": "213b3328",
   "metadata": {},
   "outputs": [],
   "source": [
    "## CHI-SQUARE TEST OF INDEPENDENCE WITH PYTHON\n",
    "\n",
    "import pandas as pd\n",
    "import researchpy as rp\n",
    "import scipy.stats as stats\n",
    "\n",
    "# To load a sample dataset for this demonstration\n",
    "import statsmodels.api as sm\n",
    "\n",
    "df = sm.datasets.webuse(\"citytemp2\")"
   ]
  },
  {
   "cell_type": "code",
   "execution_count": 114,
   "id": "1be9aa53",
   "metadata": {},
   "outputs": [
    {
     "data": {
      "text/html": [
       "<div>\n",
       "<style scoped>\n",
       "    .dataframe tbody tr th:only-of-type {\n",
       "        vertical-align: middle;\n",
       "    }\n",
       "\n",
       "    .dataframe tbody tr th {\n",
       "        vertical-align: top;\n",
       "    }\n",
       "\n",
       "    .dataframe thead th {\n",
       "        text-align: right;\n",
       "    }\n",
       "</style>\n",
       "<table border=\"1\" class=\"dataframe\">\n",
       "  <thead>\n",
       "    <tr style=\"text-align: right;\">\n",
       "      <th></th>\n",
       "      <th>division</th>\n",
       "      <th>region</th>\n",
       "      <th>heatdd</th>\n",
       "      <th>cooldd</th>\n",
       "      <th>tempjan</th>\n",
       "      <th>tempjuly</th>\n",
       "      <th>agecat</th>\n",
       "    </tr>\n",
       "  </thead>\n",
       "  <tbody>\n",
       "    <tr>\n",
       "      <th>0</th>\n",
       "      <td>N. Eng.</td>\n",
       "      <td>NE</td>\n",
       "      <td>NaN</td>\n",
       "      <td>NaN</td>\n",
       "      <td>16.600000</td>\n",
       "      <td>69.599998</td>\n",
       "      <td>19-29</td>\n",
       "    </tr>\n",
       "    <tr>\n",
       "      <th>1</th>\n",
       "      <td>N. Eng.</td>\n",
       "      <td>NE</td>\n",
       "      <td>7947.0</td>\n",
       "      <td>250.0</td>\n",
       "      <td>18.200001</td>\n",
       "      <td>68.000000</td>\n",
       "      <td>19-29</td>\n",
       "    </tr>\n",
       "    <tr>\n",
       "      <th>2</th>\n",
       "      <td>Mid Atl</td>\n",
       "      <td>NE</td>\n",
       "      <td>7480.0</td>\n",
       "      <td>424.0</td>\n",
       "      <td>18.400000</td>\n",
       "      <td>70.199997</td>\n",
       "      <td>19-29</td>\n",
       "    </tr>\n",
       "    <tr>\n",
       "      <th>3</th>\n",
       "      <td>N. Eng.</td>\n",
       "      <td>NE</td>\n",
       "      <td>7482.0</td>\n",
       "      <td>353.0</td>\n",
       "      <td>19.900000</td>\n",
       "      <td>69.500000</td>\n",
       "      <td>19-29</td>\n",
       "    </tr>\n",
       "    <tr>\n",
       "      <th>4</th>\n",
       "      <td>N. Eng.</td>\n",
       "      <td>NE</td>\n",
       "      <td>7482.0</td>\n",
       "      <td>353.0</td>\n",
       "      <td>19.900000</td>\n",
       "      <td>69.500000</td>\n",
       "      <td>19-29</td>\n",
       "    </tr>\n",
       "  </tbody>\n",
       "</table>\n",
       "</div>"
      ],
      "text/plain": [
       "  division region  heatdd  cooldd    tempjan   tempjuly agecat\n",
       "0  N. Eng.     NE     NaN     NaN  16.600000  69.599998  19-29\n",
       "1  N. Eng.     NE  7947.0   250.0  18.200001  68.000000  19-29\n",
       "2  Mid Atl     NE  7480.0   424.0  18.400000  70.199997  19-29\n",
       "3  N. Eng.     NE  7482.0   353.0  19.900000  69.500000  19-29\n",
       "4  N. Eng.     NE  7482.0   353.0  19.900000  69.500000  19-29"
      ]
     },
     "execution_count": 114,
     "metadata": {},
     "output_type": "execute_result"
    }
   ],
   "source": [
    "df.head()"
   ]
  },
  {
   "cell_type": "code",
   "execution_count": 115,
   "id": "76e2fa98",
   "metadata": {},
   "outputs": [
    {
     "data": {
      "text/html": [
       "<div>\n",
       "<style scoped>\n",
       "    .dataframe tbody tr th:only-of-type {\n",
       "        vertical-align: middle;\n",
       "    }\n",
       "\n",
       "    .dataframe tbody tr th {\n",
       "        vertical-align: top;\n",
       "    }\n",
       "\n",
       "    .dataframe thead th {\n",
       "        text-align: right;\n",
       "    }\n",
       "</style>\n",
       "<table border=\"1\" class=\"dataframe\">\n",
       "  <thead>\n",
       "    <tr style=\"text-align: right;\">\n",
       "      <th></th>\n",
       "      <th>Variable</th>\n",
       "      <th>Outcome</th>\n",
       "      <th>Count</th>\n",
       "      <th>Percent</th>\n",
       "    </tr>\n",
       "  </thead>\n",
       "  <tbody>\n",
       "    <tr>\n",
       "      <th>0</th>\n",
       "      <td>agecat</td>\n",
       "      <td>19-29</td>\n",
       "      <td>507</td>\n",
       "      <td>53.03</td>\n",
       "    </tr>\n",
       "    <tr>\n",
       "      <th>1</th>\n",
       "      <td></td>\n",
       "      <td>30-34</td>\n",
       "      <td>316</td>\n",
       "      <td>33.05</td>\n",
       "    </tr>\n",
       "    <tr>\n",
       "      <th>2</th>\n",
       "      <td></td>\n",
       "      <td>35+</td>\n",
       "      <td>133</td>\n",
       "      <td>13.91</td>\n",
       "    </tr>\n",
       "    <tr>\n",
       "      <th>3</th>\n",
       "      <td>region</td>\n",
       "      <td>N Cntrl</td>\n",
       "      <td>284</td>\n",
       "      <td>29.71</td>\n",
       "    </tr>\n",
       "    <tr>\n",
       "      <th>4</th>\n",
       "      <td></td>\n",
       "      <td>West</td>\n",
       "      <td>256</td>\n",
       "      <td>26.78</td>\n",
       "    </tr>\n",
       "    <tr>\n",
       "      <th>5</th>\n",
       "      <td></td>\n",
       "      <td>South</td>\n",
       "      <td>250</td>\n",
       "      <td>26.15</td>\n",
       "    </tr>\n",
       "    <tr>\n",
       "      <th>6</th>\n",
       "      <td></td>\n",
       "      <td>NE</td>\n",
       "      <td>166</td>\n",
       "      <td>17.36</td>\n",
       "    </tr>\n",
       "  </tbody>\n",
       "</table>\n",
       "</div>"
      ],
      "text/plain": [
       "  Variable  Outcome  Count  Percent\n",
       "0   agecat    19-29    507    53.03\n",
       "1             30-34    316    33.05\n",
       "2               35+    133    13.91\n",
       "3   region  N Cntrl    284    29.71\n",
       "4              West    256    26.78\n",
       "5             South    250    26.15\n",
       "6                NE    166    17.36"
      ]
     },
     "execution_count": 115,
     "metadata": {},
     "output_type": "execute_result"
    }
   ],
   "source": [
    "rp.summary_cat(df[[\"agecat\", \"region\"]])"
   ]
  },
  {
   "cell_type": "code",
   "execution_count": 116,
   "id": "c7c1dda1",
   "metadata": {},
   "outputs": [
    {
     "name": "stdout",
     "output_type": "stream",
     "text": [
      "Chi Sq is significant at p-value: 0.0, dof: 6, and score: 61.29. \n"
     ]
    }
   ],
   "source": [
    "# alternative 1, this one is with stats library\n",
    "\n",
    "crosstab = pd.crosstab(df[\"region\"], df[\"agecat\"])\n",
    "\n",
    "chisq_test_statistics = stats.chi2_contingency(crosstab)[0]\n",
    "p_value = stats.chi2_contingency(crosstab)[1]\n",
    "dof = stats.chi2_contingency(crosstab)[2]\n",
    "\n",
    "if p_value < 0.05:\n",
    "    print(\"Chi Sq is significant at p-value: {}, dof: {}, and score: {}. \".format(p_value.round(10), dof, chisq_test_staticstics.round(2)))\n",
    "else:\n",
    "    print(\"Chi Sq is not significant at p-value: {}, dof: {}, and score: {}. \".format(p_value.round(10), dof, chisq_test_staticstics.round(2)))    "
   ]
  },
  {
   "cell_type": "code",
   "execution_count": 117,
   "id": "95bee100",
   "metadata": {},
   "outputs": [
    {
     "name": "stdout",
     "output_type": "stream",
     "text": [
      "Chi Sq is significant with Strong relationship at p-value: 0.0, and score: 61.29. \n"
     ]
    },
    {
     "data": {
      "text/html": [
       "<div>\n",
       "<style scoped>\n",
       "    .dataframe tbody tr th:only-of-type {\n",
       "        vertical-align: middle;\n",
       "    }\n",
       "\n",
       "    .dataframe tbody tr th {\n",
       "        vertical-align: top;\n",
       "    }\n",
       "\n",
       "    .dataframe thead th {\n",
       "        text-align: right;\n",
       "    }\n",
       "</style>\n",
       "<table border=\"1\" class=\"dataframe\">\n",
       "  <thead>\n",
       "    <tr style=\"text-align: right;\">\n",
       "      <th></th>\n",
       "      <th>Chi-square test</th>\n",
       "      <th>results</th>\n",
       "    </tr>\n",
       "  </thead>\n",
       "  <tbody>\n",
       "    <tr>\n",
       "      <th>0</th>\n",
       "      <td>Pearson Chi-square ( 6.0) =</td>\n",
       "      <td>61.2877</td>\n",
       "    </tr>\n",
       "    <tr>\n",
       "      <th>1</th>\n",
       "      <td>p-value =</td>\n",
       "      <td>0.0000</td>\n",
       "    </tr>\n",
       "    <tr>\n",
       "      <th>2</th>\n",
       "      <td>Cramer's V =</td>\n",
       "      <td>0.1790</td>\n",
       "    </tr>\n",
       "  </tbody>\n",
       "</table>\n",
       "</div>"
      ],
      "text/plain": [
       "                Chi-square test  results\n",
       "0  Pearson Chi-square ( 6.0) =   61.2877\n",
       "1                    p-value =    0.0000\n",
       "2                 Cramer's V =    0.1790"
      ]
     },
     "execution_count": 117,
     "metadata": {},
     "output_type": "execute_result"
    }
   ],
   "source": [
    "# alternative 2, this one is with researchpy library\n",
    "crosstab, test_results, expected = rp.crosstab(df[\"region\"], df[\"agecat\"],\n",
    "                                               test= \"chi-square\",\n",
    "                                               expected_freqs= True,\n",
    "                                               prop= \"cell\")\n",
    "\n",
    "if ((test_results.iloc[:,-1][1] < 0.05) & (test_results.iloc[:,-1][2] > 0.25)):\n",
    "    print(\"Chi Sq is significant with Very Strong relationship at p-value: {}, and score: {}. \".format(test_results.iloc[:,-1][1].round(10), test_results.iloc[:,-1][0].round(2)))\n",
    "\n",
    "elif ((test_results.iloc[:,-1][1] < 0.05) & (test_results.iloc[:,-1][2] > 0.15)):\n",
    "    print(\"Chi Sq is significant with Strong relationship at p-value: {}, and score: {}. \".format(test_results.iloc[:,-1][1].round(10), test_results.iloc[:,-1][0].round(2)))\n",
    "\n",
    "elif ((test_results.iloc[:,-1][1] < 0.05) & (test_results.iloc[:,-1][2] > 0.1)):\n",
    "    print(\"Chi Sq is significant with Moderate relationship at p-value: {}, and score: {}. \".format(test_results.iloc[:,-1][1].round(10), test_results.iloc[:,-1][0].round(2)))\n",
    "\n",
    "elif ((test_results.iloc[:,-1][1] < 0.05) & (test_results.iloc[:,-1][2] > 0.05)):\n",
    "    print(\"Chi Sq is significant with Weak relationship at p-value: {}, and score: {}. \".format(test_results.iloc[:,-1][1].round(10), test_results.iloc[:,-1][0].round(2)))\n",
    "    \n",
    "else:\n",
    "    print(\"Chi Sq is not significant at p-value: {}, and score: {}. \".format(test_results.iloc[:,-1][1].round(10), test_results.iloc[:,-1][0].round(2)))    \n",
    "\n",
    "test_results\n",
    "    "
   ]
  },
  {
   "cell_type": "markdown",
   "id": "bf0e4279",
   "metadata": {},
   "source": [
    "## Step 2: Chi Square post-hoc tests"
   ]
  },
  {
   "cell_type": "markdown",
   "id": "b4ca907d",
   "metadata": {},
   "source": [
    "Chi Square Post Hoc (pairwise chi sq test) is to compare the different groups and get a p-value that tells us whether these groups are actually different than each other.\n",
    "https://neuhofmo.github.io/chi-square-and-post-hoc-in-python/"
   ]
  },
  {
   "cell_type": "code",
   "execution_count": 248,
   "id": "9b413363",
   "metadata": {},
   "outputs": [
    {
     "data": {
      "text/html": [
       "<div>\n",
       "<style scoped>\n",
       "    .dataframe tbody tr th:only-of-type {\n",
       "        vertical-align: middle;\n",
       "    }\n",
       "\n",
       "    .dataframe tbody tr th {\n",
       "        vertical-align: top;\n",
       "    }\n",
       "\n",
       "    .dataframe thead th {\n",
       "        text-align: right;\n",
       "    }\n",
       "</style>\n",
       "<table border=\"1\" class=\"dataframe\">\n",
       "  <thead>\n",
       "    <tr style=\"text-align: right;\">\n",
       "      <th>agecat</th>\n",
       "      <th>region</th>\n",
       "      <th>19-29</th>\n",
       "      <th>30-34</th>\n",
       "      <th>35+</th>\n",
       "    </tr>\n",
       "  </thead>\n",
       "  <tbody>\n",
       "    <tr>\n",
       "      <th>0</th>\n",
       "      <td>NE</td>\n",
       "      <td>46</td>\n",
       "      <td>83</td>\n",
       "      <td>37</td>\n",
       "    </tr>\n",
       "    <tr>\n",
       "      <th>1</th>\n",
       "      <td>N Cntrl</td>\n",
       "      <td>162</td>\n",
       "      <td>92</td>\n",
       "      <td>30</td>\n",
       "    </tr>\n",
       "    <tr>\n",
       "      <th>2</th>\n",
       "      <td>South</td>\n",
       "      <td>139</td>\n",
       "      <td>68</td>\n",
       "      <td>43</td>\n",
       "    </tr>\n",
       "    <tr>\n",
       "      <th>3</th>\n",
       "      <td>West</td>\n",
       "      <td>160</td>\n",
       "      <td>73</td>\n",
       "      <td>23</td>\n",
       "    </tr>\n",
       "  </tbody>\n",
       "</table>\n",
       "</div>"
      ],
      "text/plain": [
       "agecat   region  19-29  30-34  35+\n",
       "0            NE     46     83   37\n",
       "1       N Cntrl    162     92   30\n",
       "2         South    139     68   43\n",
       "3          West    160     73   23"
      ]
     },
     "execution_count": 248,
     "metadata": {},
     "output_type": "execute_result"
    }
   ],
   "source": [
    "# does West and South region have significantly different age group distribution? \n",
    "dfx = df.pivot_table(index='region',columns='agecat', values = 'division', aggfunc='count').reset_index()\n",
    "dfx"
   ]
  },
  {
   "cell_type": "code",
   "execution_count": 249,
   "id": "fc35c3a2",
   "metadata": {},
   "outputs": [
    {
     "data": {
      "text/html": [
       "<div>\n",
       "<style scoped>\n",
       "    .dataframe tbody tr th:only-of-type {\n",
       "        vertical-align: middle;\n",
       "    }\n",
       "\n",
       "    .dataframe tbody tr th {\n",
       "        vertical-align: top;\n",
       "    }\n",
       "\n",
       "    .dataframe thead th {\n",
       "        text-align: right;\n",
       "    }\n",
       "</style>\n",
       "<table border=\"1\" class=\"dataframe\">\n",
       "  <thead>\n",
       "    <tr style=\"text-align: right;\">\n",
       "      <th></th>\n",
       "      <th>19-29</th>\n",
       "      <th>30-34</th>\n",
       "      <th>35+</th>\n",
       "    </tr>\n",
       "  </thead>\n",
       "  <tbody>\n",
       "    <tr>\n",
       "      <th>450</th>\n",
       "      <td>1</td>\n",
       "      <td>0</td>\n",
       "      <td>0</td>\n",
       "    </tr>\n",
       "    <tr>\n",
       "      <th>451</th>\n",
       "      <td>1</td>\n",
       "      <td>0</td>\n",
       "      <td>0</td>\n",
       "    </tr>\n",
       "    <tr>\n",
       "      <th>452</th>\n",
       "      <td>1</td>\n",
       "      <td>0</td>\n",
       "      <td>0</td>\n",
       "    </tr>\n",
       "    <tr>\n",
       "      <th>453</th>\n",
       "      <td>1</td>\n",
       "      <td>0</td>\n",
       "      <td>0</td>\n",
       "    </tr>\n",
       "    <tr>\n",
       "      <th>454</th>\n",
       "      <td>1</td>\n",
       "      <td>0</td>\n",
       "      <td>0</td>\n",
       "    </tr>\n",
       "  </tbody>\n",
       "</table>\n",
       "</div>"
      ],
      "text/plain": [
       "     19-29  30-34  35+\n",
       "450      1      0    0\n",
       "451      1      0    0\n",
       "452      1      0    0\n",
       "453      1      0    0\n",
       "454      1      0    0"
      ]
     },
     "execution_count": 249,
     "metadata": {},
     "output_type": "execute_result"
    }
   ],
   "source": [
    "df_test = df[df['region'].isin(['West','South'])]\n",
    "\n",
    "dummies = pd.get_dummies(df_test['agecat'])\n",
    "dummies.head()"
   ]
  },
  {
   "cell_type": "code",
   "execution_count": 253,
   "id": "15e5476a",
   "metadata": {},
   "outputs": [
    {
     "name": "stdout",
     "output_type": "stream",
     "text": [
      "region  South  West\n",
      "19-29              \n",
      "0         111    96\n",
      "1         139   160 \n",
      "\n",
      "Insignificant difference. Chi2 value= 2.213817574786325\n",
      "p-value= 0.13677982353820128\n",
      "Degrees of freedom= 1\n",
      "\n",
      "region  South  West\n",
      "30-34              \n",
      "0         182   183\n",
      "1          68    73 \n",
      "\n",
      "Insignificant difference. Chi2 value= 0.05329532995725284\n",
      "p-value= 0.8174252655811318\n",
      "Degrees of freedom= 1\n",
      "\n",
      "region  South  West\n",
      "35+                \n",
      "0         207   233\n",
      "1          43    23 \n",
      "\n",
      "Significant difference. Chi2 value= 6.819964192708333\n",
      "p-value= 0.009014437554213467\n",
      "Degrees of freedom= 1\n",
      "\n"
     ]
    }
   ],
   "source": [
    "for series in dummies:\n",
    "    nl = \"\\n\"\n",
    "    \n",
    "    crosstab = pd.crosstab(dummies[f\"{series}\"], df_test['region'])\n",
    "    print(crosstab, nl)\n",
    "    chi2, p, dof, expected = stats.chi2_contingency(crosstab, correction = 'fdr-bh')\n",
    "    if p < 0.05:\n",
    "        print(f\"Significant difference. Chi2 value= {chi2}{nl}p-value= {p}{nl}Degrees of freedom= {dof}{nl}\")\n",
    "    else:\n",
    "        print(f\"Insignificant difference. Chi2 value= {chi2}{nl}p-value= {p}{nl}Degrees of freedom= {dof}{nl}\")\n",
    "        \n",
    "    "
   ]
  },
  {
   "cell_type": "markdown",
   "id": "c452ecd9",
   "metadata": {},
   "source": [
    "#### Additional Note: 2 proportion z test and chi sq is similar in pvalue, therefore interchangeable"
   ]
  },
  {
   "cell_type": "markdown",
   "id": "f67e24e6",
   "metadata": {},
   "source": [
    "Reference: \n",
    "1. https://rinterested.github.io/statistics/chi_square_same_as_z_test.html\n",
    "2. https://www.statsmodels.org/dev/generated/statsmodels.stats.proportion.proportions_ztest.html"
   ]
  },
  {
   "cell_type": "code",
   "execution_count": 234,
   "id": "a265f8c0",
   "metadata": {},
   "outputs": [
    {
     "data": {
      "text/html": [
       "<div>\n",
       "<style scoped>\n",
       "    .dataframe tbody tr th:only-of-type {\n",
       "        vertical-align: middle;\n",
       "    }\n",
       "\n",
       "    .dataframe tbody tr th {\n",
       "        vertical-align: top;\n",
       "    }\n",
       "\n",
       "    .dataframe thead th {\n",
       "        text-align: right;\n",
       "    }\n",
       "</style>\n",
       "<table border=\"1\" class=\"dataframe\">\n",
       "  <thead>\n",
       "    <tr style=\"text-align: right;\">\n",
       "      <th>region</th>\n",
       "      <th>South</th>\n",
       "      <th>West</th>\n",
       "    </tr>\n",
       "    <tr>\n",
       "      <th>19-29</th>\n",
       "      <th></th>\n",
       "      <th></th>\n",
       "    </tr>\n",
       "  </thead>\n",
       "  <tbody>\n",
       "    <tr>\n",
       "      <th>0</th>\n",
       "      <td>111</td>\n",
       "      <td>96</td>\n",
       "    </tr>\n",
       "    <tr>\n",
       "      <th>1</th>\n",
       "      <td>139</td>\n",
       "      <td>160</td>\n",
       "    </tr>\n",
       "  </tbody>\n",
       "</table>\n",
       "</div>"
      ],
      "text/plain": [
       "region  South  West\n",
       "19-29              \n",
       "0         111    96\n",
       "1         139   160"
      ]
     },
     "execution_count": 234,
     "metadata": {},
     "output_type": "execute_result"
    }
   ],
   "source": [
    "crosstab = pd.crosstab(dummies['19-29'], df_test['region'])\n",
    "crosstab"
   ]
  },
  {
   "cell_type": "code",
   "execution_count": 242,
   "id": "f2dd0f52",
   "metadata": {},
   "outputs": [],
   "source": [
    "import numpy as np\n",
    "nobs = np.array([crosstab[i].sum() for i in ['South','West']])\n",
    "count = np.array([crosstab[i][1] for i in ['South','West']])"
   ]
  },
  {
   "cell_type": "code",
   "execution_count": 241,
   "id": "e9d9a003",
   "metadata": {},
   "outputs": [
    {
     "data": {
      "text/plain": [
       "array([250, 256], dtype=int64)"
      ]
     },
     "execution_count": 241,
     "metadata": {},
     "output_type": "execute_result"
    }
   ],
   "source": [
    "count"
   ]
  },
  {
   "cell_type": "code",
   "execution_count": 256,
   "id": "ae74083e",
   "metadata": {},
   "outputs": [
    {
     "name": "stdout",
     "output_type": "stream",
     "text": [
      "Insignificant difference, pvalue at: 0.114\n"
     ]
    }
   ],
   "source": [
    "from statsmodels.stats.proportion import proportions_ztest\n",
    "stat, pval = proportions_ztest(count, nobs)\n",
    "if pval < 0.05:\n",
    "    print('Significant difference, pvalue at: {0:0.3f}'.format(pval))\n",
    "else:\n",
    "    print('Insignificant difference, pvalue at: {0:0.3f}'.format(pval))"
   ]
  },
  {
   "cell_type": "code",
   "execution_count": 257,
   "id": "40c745e8",
   "metadata": {},
   "outputs": [
    {
     "name": "stdout",
     "output_type": "stream",
     "text": [
      "region  South  West\n",
      "19-29              \n",
      "0         111    96\n",
      "1         139   160 \n",
      "\n",
      "Insignificant difference. Chi2 value= 2.4910769230769234\n",
      "p-value= 0.11449335733066458\n",
      "Degrees of freedom= 1\n",
      "\n",
      "region  South  West\n",
      "30-34              \n",
      "0         182   183\n",
      "1          68    73 \n",
      "\n",
      "Insignificant difference. Chi2 value= 0.10891375935101574\n",
      "p-value= 0.7413842102700469\n",
      "Degrees of freedom= 1\n",
      "\n",
      "region  South  West\n",
      "35+                \n",
      "0         207   233\n",
      "1          43    23 \n",
      "\n",
      "Significant difference. Chi2 value= 7.526881770833334\n",
      "p-value= 0.006078502758847744\n",
      "Degrees of freedom= 1\n",
      "\n"
     ]
    }
   ],
   "source": [
    "## the p-value is similar to chi sq with no adjustment (i.e correction = False), \n",
    "# as can be seen in first print value for p (19-29 age category)\n",
    "\n",
    "for series in dummies:\n",
    "    nl = \"\\n\"\n",
    "    \n",
    "    crosstab = pd.crosstab(dummies[f\"{series}\"], df_test['region'])\n",
    "    print(crosstab, nl)\n",
    "    chi2, p, dof, expected = stats.chi2_contingency(crosstab, correction = False)\n",
    "    if p < 0.05:\n",
    "        print(f\"Significant difference. Chi2 value= {chi2}{nl}p-value= {p}{nl}Degrees of freedom= {dof}{nl}\")\n",
    "    else:\n",
    "        print(f\"Insignificant difference. Chi2 value= {chi2}{nl}p-value= {p}{nl}Degrees of freedom= {dof}{nl}\")\n",
    "        "
   ]
  }
 ],
 "metadata": {
  "kernelspec": {
   "display_name": "Python 3 (ipykernel)",
   "language": "python",
   "name": "python3"
  },
  "language_info": {
   "codemirror_mode": {
    "name": "ipython",
    "version": 3
   },
   "file_extension": ".py",
   "mimetype": "text/x-python",
   "name": "python",
   "nbconvert_exporter": "python",
   "pygments_lexer": "ipython3",
   "version": "3.9.13"
  }
 },
 "nbformat": 4,
 "nbformat_minor": 5
}
