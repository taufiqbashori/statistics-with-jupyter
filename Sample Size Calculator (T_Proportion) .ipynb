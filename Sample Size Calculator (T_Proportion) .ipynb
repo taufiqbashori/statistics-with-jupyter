{
  "nbformat": 4,
  "nbformat_minor": 0,
  "metadata": {
    "colab": {
      "provenance": []
    },
    "kernelspec": {
      "name": "python3",
      "display_name": "Python 3"
    },
    "language_info": {
      "name": "python"
    }
  },
  "cells": [
    {
      "cell_type": "code",
      "execution_count": 4,
      "metadata": {
        "colab": {
          "base_uri": "https://localhost:8080/"
        },
        "id": "iMenbOVpAKTT",
        "outputId": "d19d2667-65ae-4809-deab-a384ac526af9"
      },
      "outputs": [
        {
          "output_type": "stream",
          "name": "stdout",
          "text": [
            "Sample Size: 6280.049\n"
          ]
        }
      ],
      "source": [
        "# Two Sample Proportion Test: https://docs.google.com/document/d/1MnfDD4aAwoINmW9FlKF3mjxRMfdv17GGZAoTeBsCXHs/edit#\n",
        "\n",
        "# docs https://www.statsmodels.org/dev/generated/statsmodels.stats.power.TTestIndPower.solve_power.html\n",
        "# estimate sample size via power analysis\n",
        "\n",
        "from statsmodels.stats.power import TTestIndPower\n",
        "# parameters for power analysis\n",
        "effect = 0.05\n",
        "alpha = 0.05\n",
        "power = 0.8\n",
        "# perform power analysis\n",
        "analysis = TTestIndPower()\n",
        "result = analysis.solve_power(effect, power=power, nobs1=None, ratio=1.0, alpha=alpha)\n",
        "print('Sample Size: %.3f' % result)"
      ]
    },
    {
      "cell_type": "code",
      "source": [
        "from statsmodels.stats.power import tt_ind_solve_power\n",
        "\n",
        "#mean_diff, sd_diff = 0.5, 0.5\n",
        "#std_effect_size = mean_diff / sd_diff\n",
        "\n",
        "n = tt_ind_solve_power(effect_size=0.50, alpha=0.05, power=0.8, ratio=1, alternative='two-sided')\n",
        "print('Number in *each* group: {:.5f}'.format(n))"
      ],
      "metadata": {
        "colab": {
          "base_uri": "https://localhost:8080/"
        },
        "id": "3Z-Ea33tHFed",
        "outputId": "6babec8b-3880-4230-a437-cf2f182a8ae5"
      },
      "execution_count": 36,
      "outputs": [
        {
          "output_type": "stream",
          "name": "stdout",
          "text": [
            "Number in *each* group: 63.76561\n"
          ]
        }
      ]
    }
  ]
}